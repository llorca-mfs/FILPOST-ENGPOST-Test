{
 "cells": [
  {
   "cell_type": "markdown",
   "id": "aa18e50b",
   "metadata": {},
   "source": [
    "## TODO:\n",
    "1. Import ENGPOST (Spacy or CoreNLP)\n",
    "2. Import FILPOST (FSPOST)\n",
    "3. Test both POSTs\n",
    "    - how to use?\n",
    "    - accuracy"
   ]
  },
  {
   "cell_type": "markdown",
   "id": "49384922",
   "metadata": {},
   "source": [
    "# spaCy Testing"
   ]
  },
  {
   "cell_type": "code",
   "execution_count": 1,
   "id": "d7fd1a58",
   "metadata": {},
   "outputs": [],
   "source": [
    "import spacy"
   ]
  },
  {
   "cell_type": "code",
   "execution_count": 2,
   "id": "7a26781d",
   "metadata": {},
   "outputs": [],
   "source": [
    "spacy_nlp = spacy.load(\"en_core_web_sm\")"
   ]
  },
  {
   "cell_type": "code",
   "execution_count": 3,
   "id": "e8f13f02",
   "metadata": {},
   "outputs": [
    {
     "name": "stdout",
     "output_type": "stream",
     "text": [
      "Hintayin :  PROPN :  proper noun\n",
      "po :  PROPN :  proper noun\n",
      "natin :  X :  other\n",
      "ang :  PROPN :  proper noun\n",
      "next :  PROPN :  proper noun\n",
      "train :  NOUN :  noun\n",
      "na :  ADP :  adposition\n",
      "paparating :  VERB :  verb\n",
      "sa :  NOUN :  noun\n",
      "station :  NOUN :  noun\n"
     ]
    }
   ],
   "source": [
    "def print_spacy(sentence):\n",
    "    \n",
    "    doc = spacy_nlp(sentence)\n",
    "    \n",
    "    for token in doc:\n",
    "        print(token, \": \", token.pos_, \": \", spacy.explain(token.pos_))\n",
    "\n",
    "print_spacy('Hintayin po natin ang next train na paparating sa station')"
   ]
  },
  {
   "cell_type": "markdown",
   "id": "a6ab1e4a",
   "metadata": {},
   "source": [
    "# FSPOST testing"
   ]
  },
  {
   "cell_type": "code",
   "execution_count": 5,
   "id": "2c25be31",
   "metadata": {},
   "outputs": [],
   "source": [
    "import os\n",
    "import nltk\n",
    "from nltk.tag.stanford import StanfordPOSTagger\n",
    "\n",
    "model = 'model//filipino-left5words-owlqn2-distsim-pref6-inf2.tagger'\n",
    "jar = 'lib//stanford-postagger.jar'\n",
    "\n",
    "fspost = StanfordPOSTagger(model, path_to_jar=jar)  # Load Tagger Model\n",
    "fspost._SEPARATOR = '|'  # Set separator for proper tuple formatting (word, tag)\n",
    "\n",
    "def set_java_path(file_path):\n",
    "    \"\"\"\n",
    "    Function for setting java path to make Stanford POS Tagger work. Makes use of the 'os' library. Input \"\" to use\n",
    "    default java path, otherwise set the location.\n",
    "    Args:\n",
    "        file_path (str): The java file path / location.\n",
    "    \"\"\"\n",
    "    if file_path == \"\":\n",
    "        java_path = \"C:/Program Files/Java/jdk1.8.0_111/bin/java.exe\"\n",
    "        print(\"Java path set by default\")\n",
    "    else:\n",
    "        java_path = file_path\n",
    "        print(\"Java path set from given\")\n",
    "    os.environ['JAVAHOME'] = java_path\n",
    "\n",
    "def tag_string(sentence):\n",
    "    \"\"\"\n",
    "    Function for tagging a sentence/string. Output is a (word, pos) tuple. To output a POS-only string, enclose this\n",
    "    function with 'format_pos' function. Ex. fspost.format_pos(fspost.tag_string('this is a string')). Same goes for\n",
    "    Stanford's word|tag notation, use 'format_stanford' function.\n",
    "    Args:\n",
    "        sentence (str): The string to be tagged.\n",
    "    Returns:\n",
    "        tagged_string: a list of string tokens containing POS labeled (word, pos) tuples.\n",
    "    \"\"\"\n",
    "    tokens = sentence.split()  # Tokenize Sentence by whitespaces\n",
    "    # print(tokens)\n",
    "    tagged_string = fspost.tag(tokens)\n",
    "    return tagged_string\n",
    "\n",
    "def tag_string_list(sentence_list):\n",
    "    \"\"\"\n",
    "    Function for tagging a list of sentences. Output is a list of (word, pos) tuple. To output a POS-only string,\n",
    "    enclose the elements in this function with 'format_pos' function. Same goes for Stanford's word|tag notation, use\n",
    "    'format_stanford' function.\n",
    "    Args:\n",
    "        sentence_list (list): The list of strings to be tagged.\n",
    "    Returns:\n",
    "        tagged_list: a list of strings containing POS labelled (word, pos) tuples.\n",
    "    \"\"\"\n",
    "    progress_ctr = 0\n",
    "    tagged_list = []  # Initialize an empty list\n",
    "    for sentence in sentence_list:\n",
    "        tagged_tuple = tag_string(sentence)  # Tag each sentence in the list\n",
    "        tagged_list.append(tagged_tuple)  # Insert tagged sentence in the new list\n",
    "        progress_ctr += 1\n",
    "        print(progress_ctr, \"/\", len(sentence_list))  # Progress Counter\n",
    "    return tagged_list"
   ]
  },
  {
   "cell_type": "code",
   "execution_count": 6,
   "id": "33bafc60",
   "metadata": {},
   "outputs": [
    {
     "name": "stdout",
     "output_type": "stream",
     "text": [
      "Java path set from given\n"
     ]
    },
    {
     "data": {
      "text/plain": [
       "[('Hintayin', 'VBOF'),\n",
       " ('po', 'RBS'),\n",
       " ('natin', 'PRP'),\n",
       " ('ang', 'DTC'),\n",
       " ('next', 'FW'),\n",
       " ('train', 'FW'),\n",
       " ('na', 'CCP'),\n",
       " ('paparating', 'VBTF'),\n",
       " ('sa', 'CCT'),\n",
       " ('station', 'FW')]"
      ]
     },
     "execution_count": 6,
     "metadata": {},
     "output_type": "execute_result"
    }
   ],
   "source": [
    "# TODO: Set PATH of your JDK\n",
    "set_java_path(\"C:/Program Files/Java/jdk-19/bin/java.exe\")\n",
    "tag_string('Hintayin po natin ang next train na paparating sa station')"
   ]
  },
  {
   "cell_type": "markdown",
   "id": "8084f2f9",
   "metadata": {},
   "source": [
    "## Compare the performances of the two monolingual taggers"
   ]
  },
  {
   "cell_type": "code",
   "execution_count": null,
   "id": "c4d515b2",
   "metadata": {},
   "outputs": [
    {
     "name": "stdout",
     "output_type": "stream",
     "text": [
      "Enter sentence ([n] to stop): sana all\n",
      "\n",
      "spaCy:\n",
      "sana :  VERB :  verb\n",
      "all :  PRON :  pronoun\n",
      "\n",
      "FSPOST:\n",
      "[('sana', 'VBS'), ('all', 'FW')]\n"
     ]
    }
   ],
   "source": [
    "while True:\n",
    "    sentence = str(input(\"Enter sentence ([n] to stop): \"))\n",
    "    \n",
    "    if sentence != 'n':\n",
    "        print(\"\\nspaCy:\")\n",
    "        print_spacy(sentence)\n",
    "        print(\"\\nFSPOST:\")\n",
    "        print(tag_string(sentence))\n",
    "    else:\n",
    "        break;"
   ]
  },
  {
   "cell_type": "code",
   "execution_count": null,
   "id": "1a8caa11",
   "metadata": {},
   "outputs": [],
   "source": []
  }
 ],
 "metadata": {
  "kernelspec": {
   "display_name": "Python 3 (ipykernel)",
   "language": "python",
   "name": "python3"
  },
  "language_info": {
   "codemirror_mode": {
    "name": "ipython",
    "version": 3
   },
   "file_extension": ".py",
   "mimetype": "text/x-python",
   "name": "python",
   "nbconvert_exporter": "python",
   "pygments_lexer": "ipython3",
   "version": "3.9.12"
  }
 },
 "nbformat": 4,
 "nbformat_minor": 5
}
