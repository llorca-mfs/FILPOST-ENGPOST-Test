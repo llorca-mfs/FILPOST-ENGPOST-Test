{
 "cells": [
  {
   "cell_type": "markdown",
   "id": "aa18e50b",
   "metadata": {},
   "source": [
    "## TODO:\n",
    "1. Import ENGPOST (Spacy or CoreNLP)\n",
    "2. Import FILPOST (FSPOST)\n",
    "3. Test both POSTs\n",
    "    - how to use?\n",
    "    - accuracy"
   ]
  },
  {
   "cell_type": "markdown",
   "id": "c229cbe7",
   "metadata": {},
   "source": [
    "# Get sample text from FILWORDNET"
   ]
  },
  {
   "cell_type": "code",
   "execution_count": 1,
   "id": "a978d4d8",
   "metadata": {},
   "outputs": [],
   "source": [
    "import pandas as pd\n",
    "import random\n",
    "\n",
    "filword_corpus = pd.read_csv(\"processed_corpus_oct_2022.csv\")"
   ]
  },
  {
   "cell_type": "code",
   "execution_count": 2,
   "id": "6116d17b",
   "metadata": {},
   "outputs": [
    {
     "name": "stdout",
     "output_type": "stream",
     "text": [
      "yo magkasunod kami ng birthday ni sister in law sabi ko sau bagay ako sa pamilya niyo e HWHAHSJSHSKJDHD\n"
     ]
    }
   ],
   "source": [
    "randInd = random.randrange(len(filword_corpus))\n",
    "filword_randtext = filword_corpus.text[randInd]\n",
    "\n",
    "print(filword_randtext)"
   ]
  },
  {
   "cell_type": "markdown",
   "id": "ca32e7ea",
   "metadata": {},
   "source": [
    "# ENGPOSTs testing"
   ]
  },
  {
   "cell_type": "markdown",
   "id": "49384922",
   "metadata": {},
   "source": [
    "## spaCy Testing"
   ]
  },
  {
   "cell_type": "code",
   "execution_count": 3,
   "id": "d7fd1a58",
   "metadata": {},
   "outputs": [],
   "source": [
    "import spacy"
   ]
  },
  {
   "cell_type": "code",
   "execution_count": 4,
   "id": "7a26781d",
   "metadata": {},
   "outputs": [],
   "source": [
    "spacy_nlp = spacy.load(\"en_core_web_sm\")"
   ]
  },
  {
   "cell_type": "code",
   "execution_count": 5,
   "id": "e8f13f02",
   "metadata": {},
   "outputs": [
    {
     "name": "stdout",
     "output_type": "stream",
     "text": [
      "Lehitimong :  PROPN :  proper noun\n",
      "mga :  PROPN :  proper noun\n",
      "karapatan :  PROPN :  proper noun\n",
      "at :  ADP :  adposition\n",
      "mga :  PROPN :  proper noun\n",
      "interes :  NOUN :  noun\n",
      "ng :  PROPN :  proper noun\n",
      "mga :  PROPN :  proper noun\n",
      "mamamayan :  PROPN :  proper noun\n",
      "? :  PUNCT :  punctuation\n"
     ]
    }
   ],
   "source": [
    "def print_spacy(sentence):\n",
    "    \n",
    "    doc = spacy_nlp(sentence)\n",
    "    \n",
    "    for token in doc:\n",
    "        print(token, \": \", token.pos_, \": \", spacy.explain(token.pos_))\n",
    "\n",
    "print_spacy(filword_randtext)"
   ]
  },
  {
   "cell_type": "markdown",
   "id": "6db4c5f0",
   "metadata": {},
   "source": [
    "## Flair Testing (with FW)"
   ]
  },
  {
   "cell_type": "code",
   "execution_count": 8,
   "id": "41d35c64",
   "metadata": {},
   "outputs": [
    {
     "name": "stdout",
     "output_type": "stream",
     "text": [
      "Requirement already satisfied: flair in /home/makorino/anaconda3/lib/python3.9/site-packages (0.11.3)\n",
      "Requirement already satisfied: huggingface-hub in /home/makorino/anaconda3/lib/python3.9/site-packages (from flair) (0.10.1)\n",
      "Requirement already satisfied: bpemb>=0.3.2 in /home/makorino/anaconda3/lib/python3.9/site-packages (from flair) (0.3.4)\n",
      "Requirement already satisfied: lxml in /home/makorino/anaconda3/lib/python3.9/site-packages (from flair) (4.8.0)\n",
      "Requirement already satisfied: sentencepiece==0.1.95 in /home/makorino/anaconda3/lib/python3.9/site-packages (from flair) (0.1.95)\n",
      "Requirement already satisfied: python-dateutil>=2.6.1 in /home/makorino/anaconda3/lib/python3.9/site-packages (from flair) (2.8.2)\n",
      "Requirement already satisfied: tqdm>=4.26.0 in /home/makorino/anaconda3/lib/python3.9/site-packages (from flair) (4.64.0)\n",
      "Requirement already satisfied: gdown==4.4.0 in /home/makorino/anaconda3/lib/python3.9/site-packages (from flair) (4.4.0)\n",
      "Requirement already satisfied: janome in /home/makorino/anaconda3/lib/python3.9/site-packages (from flair) (0.4.2)\n",
      "Requirement already satisfied: more-itertools in /home/makorino/anaconda3/lib/python3.9/site-packages (from flair) (9.0.0)\n",
      "Requirement already satisfied: tabulate in /home/makorino/anaconda3/lib/python3.9/site-packages (from flair) (0.8.9)\n",
      "Requirement already satisfied: hyperopt>=0.2.7 in /home/makorino/anaconda3/lib/python3.9/site-packages (from flair) (0.2.7)\n",
      "Requirement already satisfied: scikit-learn>=0.21.3 in /home/makorino/anaconda3/lib/python3.9/site-packages (from flair) (1.0.2)\n",
      "Requirement already satisfied: langdetect in /home/makorino/anaconda3/lib/python3.9/site-packages (from flair) (1.0.9)\n",
      "Requirement already satisfied: ftfy in /home/makorino/anaconda3/lib/python3.9/site-packages (from flair) (6.1.1)\n",
      "Requirement already satisfied: konoha<5.0.0,>=4.0.0 in /home/makorino/anaconda3/lib/python3.9/site-packages (from flair) (4.6.5)\n",
      "Requirement already satisfied: torch!=1.8,>=1.5.0 in /home/makorino/anaconda3/lib/python3.9/site-packages (from flair) (1.12.1)\n",
      "Requirement already satisfied: segtok>=1.5.7 in /home/makorino/anaconda3/lib/python3.9/site-packages (from flair) (1.5.11)\n",
      "Requirement already satisfied: gensim>=3.4.0 in /home/makorino/anaconda3/lib/python3.9/site-packages (from flair) (4.1.2)\n",
      "Requirement already satisfied: regex in /home/makorino/anaconda3/lib/python3.9/site-packages (from flair) (2022.3.15)\n",
      "Requirement already satisfied: conllu>=4.0 in /home/makorino/anaconda3/lib/python3.9/site-packages (from flair) (4.5.2)\n",
      "Requirement already satisfied: sqlitedict>=1.6.0 in /home/makorino/anaconda3/lib/python3.9/site-packages (from flair) (2.0.0)\n",
      "Requirement already satisfied: pptree in /home/makorino/anaconda3/lib/python3.9/site-packages (from flair) (3.1)\n",
      "Requirement already satisfied: mpld3==0.3 in /home/makorino/anaconda3/lib/python3.9/site-packages (from flair) (0.3)\n",
      "Requirement already satisfied: deprecated>=1.2.4 in /home/makorino/anaconda3/lib/python3.9/site-packages (from flair) (1.2.13)\n",
      "Requirement already satisfied: matplotlib>=2.2.3 in /home/makorino/anaconda3/lib/python3.9/site-packages (from flair) (3.5.1)\n",
      "Requirement already satisfied: wikipedia-api in /home/makorino/anaconda3/lib/python3.9/site-packages (from flair) (0.5.4)\n",
      "Requirement already satisfied: transformers>=4.0.0 in /home/makorino/anaconda3/lib/python3.9/site-packages (from flair) (4.23.1)\n",
      "Requirement already satisfied: beautifulsoup4 in /home/makorino/anaconda3/lib/python3.9/site-packages (from gdown==4.4.0->flair) (4.11.1)\n",
      "Requirement already satisfied: filelock in /home/makorino/anaconda3/lib/python3.9/site-packages (from gdown==4.4.0->flair) (3.6.0)\n",
      "Requirement already satisfied: six in /home/makorino/anaconda3/lib/python3.9/site-packages (from gdown==4.4.0->flair) (1.16.0)\n",
      "Requirement already satisfied: requests[socks] in /home/makorino/anaconda3/lib/python3.9/site-packages (from gdown==4.4.0->flair) (2.27.1)\n",
      "Requirement already satisfied: numpy in /home/makorino/anaconda3/lib/python3.9/site-packages (from bpemb>=0.3.2->flair) (1.21.5)\n",
      "Requirement already satisfied: wrapt<2,>=1.10 in /home/makorino/anaconda3/lib/python3.9/site-packages (from deprecated>=1.2.4->flair) (1.12.1)\n",
      "Requirement already satisfied: smart-open>=1.8.1 in /home/makorino/anaconda3/lib/python3.9/site-packages (from gensim>=3.4.0->flair) (5.2.1)\n",
      "Requirement already satisfied: scipy>=0.18.1 in /home/makorino/anaconda3/lib/python3.9/site-packages (from gensim>=3.4.0->flair) (1.7.3)\n",
      "Requirement already satisfied: networkx>=2.2 in /home/makorino/anaconda3/lib/python3.9/site-packages (from hyperopt>=0.2.7->flair) (2.7.1)\n",
      "Requirement already satisfied: cloudpickle in /home/makorino/anaconda3/lib/python3.9/site-packages (from hyperopt>=0.2.7->flair) (2.0.0)\n",
      "Requirement already satisfied: future in /home/makorino/anaconda3/lib/python3.9/site-packages (from hyperopt>=0.2.7->flair) (0.18.2)\n",
      "Requirement already satisfied: py4j in /home/makorino/anaconda3/lib/python3.9/site-packages (from hyperopt>=0.2.7->flair) (0.10.9.7)\n",
      "Collecting importlib-metadata<4.0.0,>=3.7.0\n",
      "  Using cached importlib_metadata-3.10.1-py3-none-any.whl (14 kB)\n",
      "Requirement already satisfied: overrides<4.0.0,>=3.0.0 in /home/makorino/anaconda3/lib/python3.9/site-packages (from konoha<5.0.0,>=4.0.0->flair) (3.1.0)\n",
      "Requirement already satisfied: pyparsing>=2.2.1 in /home/makorino/anaconda3/lib/python3.9/site-packages (from matplotlib>=2.2.3->flair) (3.0.4)\n",
      "Requirement already satisfied: cycler>=0.10 in /home/makorino/anaconda3/lib/python3.9/site-packages (from matplotlib>=2.2.3->flair) (0.11.0)\n",
      "Requirement already satisfied: pillow>=6.2.0 in /home/makorino/anaconda3/lib/python3.9/site-packages (from matplotlib>=2.2.3->flair) (9.0.1)\n",
      "Requirement already satisfied: fonttools>=4.22.0 in /home/makorino/anaconda3/lib/python3.9/site-packages (from matplotlib>=2.2.3->flair) (4.25.0)\n",
      "Requirement already satisfied: kiwisolver>=1.0.1 in /home/makorino/anaconda3/lib/python3.9/site-packages (from matplotlib>=2.2.3->flair) (1.3.2)\n",
      "Requirement already satisfied: packaging>=20.0 in /home/makorino/anaconda3/lib/python3.9/site-packages (from matplotlib>=2.2.3->flair) (21.3)\n",
      "Requirement already satisfied: threadpoolctl>=2.0.0 in /home/makorino/anaconda3/lib/python3.9/site-packages (from scikit-learn>=0.21.3->flair) (2.2.0)\n",
      "Requirement already satisfied: joblib>=0.11 in /home/makorino/anaconda3/lib/python3.9/site-packages (from scikit-learn>=0.21.3->flair) (1.1.0)\n",
      "Requirement already satisfied: typing-extensions in /home/makorino/anaconda3/lib/python3.9/site-packages (from torch!=1.8,>=1.5.0->flair) (4.1.1)\n",
      "Requirement already satisfied: tokenizers!=0.11.3,<0.14,>=0.11.1 in /home/makorino/anaconda3/lib/python3.9/site-packages (from transformers>=4.0.0->flair) (0.13.1)\n",
      "Requirement already satisfied: pyyaml>=5.1 in /home/makorino/anaconda3/lib/python3.9/site-packages (from transformers>=4.0.0->flair) (6.0)\n",
      "Requirement already satisfied: wcwidth>=0.2.5 in /home/makorino/anaconda3/lib/python3.9/site-packages (from ftfy->flair) (0.2.5)\n",
      "Requirement already satisfied: zipp>=0.5 in /home/makorino/anaconda3/lib/python3.9/site-packages (from importlib-metadata<4.0.0,>=3.7.0->konoha<5.0.0,>=4.0.0->flair) (3.7.0)\n",
      "Requirement already satisfied: charset-normalizer~=2.0.0 in /home/makorino/anaconda3/lib/python3.9/site-packages (from requests[socks]->gdown==4.4.0->flair) (2.0.4)\n",
      "Requirement already satisfied: certifi>=2017.4.17 in /home/makorino/anaconda3/lib/python3.9/site-packages (from requests[socks]->gdown==4.4.0->flair) (2021.10.8)\n",
      "Requirement already satisfied: urllib3<1.27,>=1.21.1 in /home/makorino/anaconda3/lib/python3.9/site-packages (from requests[socks]->gdown==4.4.0->flair) (1.26.9)\n",
      "Requirement already satisfied: idna<4,>=2.5 in /home/makorino/anaconda3/lib/python3.9/site-packages (from requests[socks]->gdown==4.4.0->flair) (3.3)\n",
      "Requirement already satisfied: soupsieve>1.2 in /home/makorino/anaconda3/lib/python3.9/site-packages (from beautifulsoup4->gdown==4.4.0->flair) (2.3.1)\n",
      "Requirement already satisfied: PySocks!=1.5.7,>=1.5.6 in /home/makorino/anaconda3/lib/python3.9/site-packages (from requests[socks]->gdown==4.4.0->flair) (1.7.1)\n",
      "Installing collected packages: importlib-metadata\n",
      "  Attempting uninstall: importlib-metadata\n",
      "    Found existing installation: importlib-metadata 5.0.0\n"
     ]
    },
    {
     "name": "stdout",
     "output_type": "stream",
     "text": [
      "    Uninstalling importlib-metadata-5.0.0:\n",
      "      Successfully uninstalled importlib-metadata-5.0.0\n",
      "\u001b[31mERROR: pip's dependency resolver does not currently take into account all the packages that are installed. This behaviour is the source of the following dependency conflicts.\n",
      "sphinx 5.3.0 requires importlib-metadata>=4.8; python_version < \"3.10\", but you have importlib-metadata 3.10.1 which is incompatible.\u001b[0m\u001b[31m\n",
      "\u001b[0mSuccessfully installed importlib-metadata-3.10.1\n",
      "Note: you may need to restart the kernel to use updated packages.\n"
     ]
    }
   ],
   "source": [
    "%pip install flair"
   ]
  },
  {
   "cell_type": "code",
   "execution_count": 9,
   "id": "c504b473",
   "metadata": {},
   "outputs": [
    {
     "name": "stderr",
     "output_type": "stream",
     "text": [
      "/home/makorino/anaconda3/lib/python3.9/site-packages/huggingface_hub/file_download.py:588: FutureWarning: `cached_download` is the legacy way to download files from the HF hub, please consider upgrading to `hf_hub_download`\n",
      "  warnings.warn(\n"
     ]
    },
    {
     "name": "stdout",
     "output_type": "stream",
     "text": [
      "2022-10-20 12:49:15,468 loading file /home/makorino/.flair/models/pos-english/a9a73f6cd878edce8a0fa518db76f441f1cc49c2525b2b4557af278ec2f0659e.121306ea62993d04cd1978398b68396931a39eb47754c8a06a87f325ea70ac63\n",
      "2022-10-20 12:49:16,506 SequenceTagger predicts: Dictionary with 53 tags: <unk>, O, UH, ,, VBD, PRP, VB, PRP$, NN, RB, ., DT, JJ, VBP, VBG, IN, CD, NNS, NNP, WRB, VBZ, WDT, CC, TO, MD, VBN, WP, :, RP, EX, JJR, FW, XX, HYPH, POS, RBR, JJS, PDT, NNPS, RBS, AFX, WP$, -LRB-, -RRB-, ``, '', LS, $, SYM, ADD\n",
      "Sentence: \"yo magkasunod kami ng birthday ni sister in law sabi ko sau bagay ako sa pamilya niyo e HWHAHSJSHSKJDHD\" → [\"yo\"/FW, \"magkasunod\"/FW, \"kami\"/FW, \"ng\"/FW, \"birthday\"/FW, \"ni\"/FW, \"sister\"/FW, \"in\"/FW, \"law\"/FW, \"sabi\"/FW, \"ko\"/FW, \"sau\"/FW, \"bagay\"/FW, \"ako\"/FW, \"sa\"/FW, \"pamilya\"/FW, \"niyo\"/FW, \"e\"/FW, \"HWHAHSJSHSKJDHD\"/NNP]\n"
     ]
    }
   ],
   "source": [
    "import flair\n",
    "from flair.data import Sentence\n",
    "from flair.models import SequenceTagger\n",
    "\n",
    "# load tagger\n",
    "tagger = SequenceTagger.load(\"flair/pos-english\")\n",
    "\n",
    "# make example sentence\n",
    "sentence = Sentence(filword_randtext)\n",
    "\n",
    "# predict NER tags\n",
    "tagger.predict(sentence)\n",
    "\n",
    "# print sentence\n",
    "print(sentence)\n",
    "\n",
    "# print predicted NER spans\n",
    "#print('The following NER tags are found:')\n",
    "# iterate over entities and print\n",
    "#for entity in sentence.get_spans('pos'):\n",
    "#    print(entity)"
   ]
  },
  {
   "cell_type": "markdown",
   "id": "a6ab1e4a",
   "metadata": {},
   "source": [
    "# FSPOST testing (Go & Nocon, 2017)"
   ]
  },
  {
   "cell_type": "markdown",
   "id": "3b68f669",
   "metadata": {},
   "source": [
    "## Import FSPOST pipeline"
   ]
  },
  {
   "cell_type": "code",
   "execution_count": 6,
   "id": "2c25be31",
   "metadata": {},
   "outputs": [],
   "source": [
    "import os\n",
    "import nltk\n",
    "from nltk.tag.stanford import StanfordPOSTagger\n",
    "\n",
    "# These are Windows formatted directories\n",
    "#model = 'model//filipino-left5words-owlqn2-distsim-pref6-inf2.tagger'\n",
    "#jar = 'lib//stanford-postagger.jar'\n",
    "\n",
    "# These are Linux formatted directories\n",
    "model = 'model/filipino-left5words-owlqn2-distsim-pref6-inf2.tagger'\n",
    "jar = 'lib/stanford-postagger.jar'\n",
    "\n",
    "fspost = StanfordPOSTagger(model, path_to_jar=jar)  # Load Tagger Model\n",
    "fspost._SEPARATOR = '|'  # Set separator for proper tuple formatting (word, tag)\n",
    "\n",
    "def set_java_path(file_path):\n",
    "    \"\"\"\n",
    "    Function for setting java path to make Stanford POS Tagger work. Makes use of the 'os' library. Input \"\" to use\n",
    "    default java path, otherwise set the location.\n",
    "    Args:\n",
    "        file_path (str): The java file path / location.\n",
    "    \"\"\"\n",
    "    if file_path == \"\":\n",
    "        java_path = \"C:/Program Files/Java/jdk1.8.0_111/bin/java.exe\"\n",
    "        print(\"Java path set by default\")\n",
    "    else:\n",
    "        java_path = file_path\n",
    "        print(\"Java path set from given\")\n",
    "    os.environ['JAVAHOME'] = java_path\n",
    "\n",
    "def tag_string(sentence):\n",
    "    \"\"\"\n",
    "    Function for tagging a sentence/string. Output is a (word, pos) tuple. To output a POS-only string, enclose this\n",
    "    function with 'format_pos' function. Ex. fspost.format_pos(fspost.tag_string('this is a string')). Same goes for\n",
    "    Stanford's word|tag notation, use 'format_stanford' function.\n",
    "    Args:\n",
    "        sentence (str): The string to be tagged.\n",
    "    Returns:\n",
    "        tagged_string: a list of string tokens containing POS labeled (word, pos) tuples.\n",
    "    \"\"\"\n",
    "    tokens = sentence.split()  # Tokenize Sentence by whitespaces\n",
    "    # print(tokens)\n",
    "    tagged_string = fspost.tag(tokens)\n",
    "    return tagged_string\n",
    "\n",
    "def tag_string_list(sentence_list):\n",
    "    \"\"\"\n",
    "    Function for tagging a list of sentences. Output is a list of (word, pos) tuple. To output a POS-only string,\n",
    "    enclose the elements in this function with 'format_pos' function. Same goes for Stanford's word|tag notation, use\n",
    "    'format_stanford' function.\n",
    "    Args:\n",
    "        sentence_list (list): The list of strings to be tagged.\n",
    "    Returns:\n",
    "        tagged_list: a list of strings containing POS labelled (word, pos) tuples.\n",
    "    \"\"\"\n",
    "    progress_ctr = 0\n",
    "    tagged_list = []  # Initialize an empty list\n",
    "    for sentence in sentence_list:\n",
    "        tagged_tuple = tag_string(sentence)  # Tag each sentence in the list\n",
    "        tagged_list.append(tagged_tuple)  # Insert tagged sentence in the new list\n",
    "        progress_ctr += 1\n",
    "        print(progress_ctr, \"/\", len(sentence_list))  # Progress Counter\n",
    "    return tagged_list"
   ]
  },
  {
   "cell_type": "markdown",
   "id": "008feec9",
   "metadata": {},
   "source": [
    "## [REQUIRED] Set JDK Path"
   ]
  },
  {
   "cell_type": "code",
   "execution_count": 11,
   "id": "33bafc60",
   "metadata": {},
   "outputs": [
    {
     "name": "stdout",
     "output_type": "stream",
     "text": [
      "Java path set from given\n"
     ]
    }
   ],
   "source": [
    "# WINDOWS\n",
    "# set_java_path(\"C:/Program Files/Java/jdk-19/bin/java.exe\")\n",
    "\n",
    "# LINUX\n",
    "set_java_path(\"/usr/lib/jvm/java-11-openjdk-amd64/bin/\")"
   ]
  },
  {
   "cell_type": "markdown",
   "id": "1103f793",
   "metadata": {},
   "source": [
    "## Use FSPOST on random text from FilWordNet"
   ]
  },
  {
   "cell_type": "code",
   "execution_count": 13,
   "id": "f1fb5f22",
   "metadata": {},
   "outputs": [
    {
     "data": {
      "text/plain": [
       "[('Lehitimong', 'JJD_CCP'),\n",
       " ('mga', 'DTCP'),\n",
       " ('karapatan', 'NNC'),\n",
       " ('at', 'CCA'),\n",
       " ('mga', 'DTCP'),\n",
       " ('interes', 'NNC'),\n",
       " ('ng', 'CCB'),\n",
       " ('mga', 'DTCP'),\n",
       " ('mamamayan', 'NNC'),\n",
       " ('?', 'PMQ')]"
      ]
     },
     "execution_count": 13,
     "metadata": {},
     "output_type": "execute_result"
    }
   ],
   "source": [
    "tag_string(filword_randtext)"
   ]
  },
  {
   "cell_type": "code",
   "execution_count": 26,
   "id": "1a8caa11",
   "metadata": {},
   "outputs": [],
   "source": []
  },
  {
   "cell_type": "code",
   "execution_count": 29,
   "id": "600ee511",
   "metadata": {},
   "outputs": [
    {
     "name": "stdout",
     "output_type": "stream",
     "text": [
      "Bagama't ang panlabas na kaanyuan ng Anak ng tao ay mayroong ilang limitasyon na may kinalaman sa larawan ng Diyos , ang Kanyang diwa at ang kung ano ang mayroon at kung ano Siya ay lubos na kinakatawan ang sariling pagkakakilanlan at katayuan ng Diyos—mayroon lamang ilang pagkakaiba sa anyo ng pagpapahayag .\n",
      "Source:  google_books\n"
     ]
    }
   ],
   "source": []
  },
  {
   "cell_type": "code",
   "execution_count": null,
   "id": "3c4ace29",
   "metadata": {},
   "outputs": [],
   "source": []
  },
  {
   "cell_type": "code",
   "execution_count": null,
   "id": "36ac8ec4",
   "metadata": {},
   "outputs": [],
   "source": []
  }
 ],
 "metadata": {
  "kernelspec": {
   "display_name": "Python 3 (ipykernel)",
   "language": "python",
   "name": "python3"
  },
  "language_info": {
   "codemirror_mode": {
    "name": "ipython",
    "version": 3
   },
   "file_extension": ".py",
   "mimetype": "text/x-python",
   "name": "python",
   "nbconvert_exporter": "python",
   "pygments_lexer": "ipython3",
   "version": "3.9.12"
  }
 },
 "nbformat": 4,
 "nbformat_minor": 5
}
