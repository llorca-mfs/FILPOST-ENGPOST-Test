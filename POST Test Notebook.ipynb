{
 "cells": [
  {
   "cell_type": "code",
   "execution_count": 1,
   "id": "e515ea49",
   "metadata": {},
   "outputs": [
    {
     "name": "stdout",
     "output_type": "stream",
     "text": [
      "Hello World!\n"
     ]
    }
   ],
   "source": [
    "print(\"Hello World!\")"
   ]
  },
  {
   "cell_type": "markdown",
   "id": "aa18e50b",
   "metadata": {},
   "source": [
    "## TODO:\n",
    "1. Import ENGPOST (Spacy or CoreNLP)\n",
    "2. Import FILPOST (FSPOST)\n",
    "3. Test both POSTs\n",
    "    - how to use?\n",
    "    - accuracy"
   ]
  },
  {
   "cell_type": "markdown",
   "id": "49384922",
   "metadata": {},
   "source": [
    "Import spacy and load the model"
   ]
  },
  {
   "cell_type": "code",
   "execution_count": 2,
   "id": "d7fd1a58",
   "metadata": {},
   "outputs": [],
   "source": [
    "import spacy"
   ]
  },
  {
   "cell_type": "code",
   "execution_count": 3,
   "id": "7a26781d",
   "metadata": {},
   "outputs": [],
   "source": [
    "spacy_nlp = spacy.load(\"en_core_web_sm\")"
   ]
  },
  {
   "cell_type": "code",
   "execution_count": 5,
   "id": "e8f13f02",
   "metadata": {},
   "outputs": [
    {
     "name": "stdout",
     "output_type": "stream",
     "text": [
      "I :  PRON :  pronoun\n",
      "want :  VERB :  verb\n",
      "to :  PART :  particle\n",
      "make :  VERB :  verb\n",
      "tusok :  NOUN :  noun\n",
      "the :  DET :  determiner\n",
      "fishballs :  NOUN :  noun\n"
     ]
    }
   ],
   "source": [
    "doc = spacy_nlp(\"I want to make tusok the fishballs\")\n",
    "\n",
    "for token in doc:\n",
    "    print(token, \": \", token.pos_, \": \", spacy.explain(token.pos_))"
   ]
  },
  {
   "cell_type": "code",
   "execution_count": null,
   "id": "ede88503",
   "metadata": {},
   "outputs": [],
   "source": []
  }
 ],
 "metadata": {
  "kernelspec": {
   "display_name": "Python 3 (ipykernel)",
   "language": "python",
   "name": "python3"
  },
  "language_info": {
   "codemirror_mode": {
    "name": "ipython",
    "version": 3
   },
   "file_extension": ".py",
   "mimetype": "text/x-python",
   "name": "python",
   "nbconvert_exporter": "python",
   "pygments_lexer": "ipython3",
   "version": "3.9.7"
  }
 },
 "nbformat": 4,
 "nbformat_minor": 5
}
