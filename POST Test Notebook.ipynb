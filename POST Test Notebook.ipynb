{
 "cells": [
  {
   "cell_type": "markdown",
   "id": "aa18e50b",
   "metadata": {},
   "source": [
    "## TODO:\n",
    "1. Import ENGPOST (Spacy or CoreNLP)\n",
    "2. Import FILPOST (FSPOST)\n",
    "3. Test both POSTs\n",
    "    - how to use?\n",
    "    - accuracy"
   ]
  },
  {
   "cell_type": "markdown",
   "id": "c229cbe7",
   "metadata": {},
   "source": [
    "# Get sample text from FILWORDNET"
   ]
  },
  {
   "cell_type": "code",
   "execution_count": 1,
   "id": "a978d4d8",
   "metadata": {},
   "outputs": [],
   "source": [
    "import pandas as pd\n",
    "import random\n",
    "\n",
    "filword_corpus = pd.read_csv(\"processed_corpus_oct_2022.csv\")\n",
    "#filword_corpush"
   ]
  },
  {
   "cell_type": "code",
   "execution_count": 2,
   "id": "6116d17b",
   "metadata": {},
   "outputs": [
    {
     "name": "stdout",
     "output_type": "stream",
     "text": [
      "Lehitimong mga karapatan at mga interes ng mga mamamayan ?\n"
     ]
    }
   ],
   "source": [
    "randInd = random.randrange(len(filword_corpus))\n",
    "filword_randtext = filword_corpus.text[randInd]\n",
    "\n",
    "print(filword_randtext)"
   ]
  },
  {
   "cell_type": "markdown",
   "id": "ca32e7ea",
   "metadata": {},
   "source": [
    "# ENGPOSTs testing"
   ]
  },
  {
   "cell_type": "markdown",
   "id": "49384922",
   "metadata": {},
   "source": [
    "## spaCy Testing"
   ]
  },
  {
   "cell_type": "code",
   "execution_count": 3,
   "id": "d7fd1a58",
   "metadata": {},
   "outputs": [],
   "source": [
    "import spacy"
   ]
  },
  {
   "cell_type": "code",
   "execution_count": 4,
   "id": "7a26781d",
   "metadata": {},
   "outputs": [],
   "source": [
    "spacy_nlp = spacy.load(\"en_core_web_sm\")"
   ]
  },
  {
   "cell_type": "code",
   "execution_count": 5,
   "id": "e8f13f02",
   "metadata": {},
   "outputs": [
    {
     "name": "stdout",
     "output_type": "stream",
     "text": [
      "Lehitimong :  PROPN :  proper noun\n",
      "mga :  PROPN :  proper noun\n",
      "karapatan :  PROPN :  proper noun\n",
      "at :  ADP :  adposition\n",
      "mga :  PROPN :  proper noun\n",
      "interes :  NOUN :  noun\n",
      "ng :  PROPN :  proper noun\n",
      "mga :  PROPN :  proper noun\n",
      "mamamayan :  PROPN :  proper noun\n",
      "? :  PUNCT :  punctuation\n"
     ]
    }
   ],
   "source": [
    "def print_spacy(sentence):\n",
    "    \n",
    "    doc = spacy_nlp(sentence)\n",
    "    \n",
    "    for token in doc:\n",
    "        print(token, \": \", token.pos_, \": \", spacy.explain(token.pos_))\n",
    "\n",
    "print_spacy(filword_randtext)"
   ]
  },
  {
   "cell_type": "markdown",
   "id": "a6ab1e4a",
   "metadata": {},
   "source": [
    "# FSPOST testing (Go & Nocon, 2017)"
   ]
  },
  {
   "cell_type": "markdown",
   "id": "3b68f669",
   "metadata": {},
   "source": [
    "## Import FSPOST pipeline"
   ]
  },
  {
   "cell_type": "code",
   "execution_count": 6,
   "id": "2c25be31",
   "metadata": {},
   "outputs": [],
   "source": [
    "import os\n",
    "import nltk\n",
    "from nltk.tag.stanford import StanfordPOSTagger\n",
    "\n",
    "# These are Windows formatted directories\n",
    "#model = 'model//filipino-left5words-owlqn2-distsim-pref6-inf2.tagger'\n",
    "#jar = 'lib//stanford-postagger.jar'\n",
    "\n",
    "# These are Linux formatted directories\n",
    "model = 'model/filipino-left5words-owlqn2-distsim-pref6-inf2.tagger'\n",
    "jar = 'lib/stanford-postagger.jar'\n",
    "\n",
    "fspost = StanfordPOSTagger(model, path_to_jar=jar)  # Load Tagger Model\n",
    "fspost._SEPARATOR = '|'  # Set separator for proper tuple formatting (word, tag)\n",
    "\n",
    "def set_java_path(file_path):\n",
    "    \"\"\"\n",
    "    Function for setting java path to make Stanford POS Tagger work. Makes use of the 'os' library. Input \"\" to use\n",
    "    default java path, otherwise set the location.\n",
    "    Args:\n",
    "        file_path (str): The java file path / location.\n",
    "    \"\"\"\n",
    "    if file_path == \"\":\n",
    "        java_path = \"C:/Program Files/Java/jdk1.8.0_111/bin/java.exe\"\n",
    "        print(\"Java path set by default\")\n",
    "    else:\n",
    "        java_path = file_path\n",
    "        print(\"Java path set from given\")\n",
    "    os.environ['JAVAHOME'] = java_path\n",
    "\n",
    "def tag_string(sentence):\n",
    "    \"\"\"\n",
    "    Function for tagging a sentence/string. Output is a (word, pos) tuple. To output a POS-only string, enclose this\n",
    "    function with 'format_pos' function. Ex. fspost.format_pos(fspost.tag_string('this is a string')). Same goes for\n",
    "    Stanford's word|tag notation, use 'format_stanford' function.\n",
    "    Args:\n",
    "        sentence (str): The string to be tagged.\n",
    "    Returns:\n",
    "        tagged_string: a list of string tokens containing POS labeled (word, pos) tuples.\n",
    "    \"\"\"\n",
    "    tokens = sentence.split()  # Tokenize Sentence by whitespaces\n",
    "    # print(tokens)\n",
    "    tagged_string = fspost.tag(tokens)\n",
    "    return tagged_string\n",
    "\n",
    "def tag_string_list(sentence_list):\n",
    "    \"\"\"\n",
    "    Function for tagging a list of sentences. Output is a list of (word, pos) tuple. To output a POS-only string,\n",
    "    enclose the elements in this function with 'format_pos' function. Same goes for Stanford's word|tag notation, use\n",
    "    'format_stanford' function.\n",
    "    Args:\n",
    "        sentence_list (list): The list of strings to be tagged.\n",
    "    Returns:\n",
    "        tagged_list: a list of strings containing POS labelled (word, pos) tuples.\n",
    "    \"\"\"\n",
    "    progress_ctr = 0\n",
    "    tagged_list = []  # Initialize an empty list\n",
    "    for sentence in sentence_list:\n",
    "        tagged_tuple = tag_string(sentence)  # Tag each sentence in the list\n",
    "        tagged_list.append(tagged_tuple)  # Insert tagged sentence in the new list\n",
    "        progress_ctr += 1\n",
    "        print(progress_ctr, \"/\", len(sentence_list))  # Progress Counter\n",
    "    return tagged_list"
   ]
  },
  {
   "cell_type": "markdown",
   "id": "008feec9",
   "metadata": {},
   "source": [
    "## [REQUIRED] Set JDK Path"
   ]
  },
  {
   "cell_type": "code",
   "execution_count": 11,
   "id": "33bafc60",
   "metadata": {},
   "outputs": [
    {
     "name": "stdout",
     "output_type": "stream",
     "text": [
      "Java path set from given\n"
     ]
    }
   ],
   "source": [
    "# WINDOWS\n",
    "# set_java_path(\"C:/Program Files/Java/jdk-19/bin/java.exe\")\n",
    "\n",
    "# LINUX\n",
    "set_java_path(\"/usr/lib/jvm/java-11-openjdk-amd64/bin/\")"
   ]
  },
  {
   "cell_type": "markdown",
   "id": "1103f793",
   "metadata": {},
   "source": [
    "## Use FSPOST on random text from FilWordNet"
   ]
  },
  {
   "cell_type": "code",
   "execution_count": 13,
   "id": "f1fb5f22",
   "metadata": {},
   "outputs": [
    {
     "data": {
      "text/plain": [
       "[('Lehitimong', 'JJD_CCP'),\n",
       " ('mga', 'DTCP'),\n",
       " ('karapatan', 'NNC'),\n",
       " ('at', 'CCA'),\n",
       " ('mga', 'DTCP'),\n",
       " ('interes', 'NNC'),\n",
       " ('ng', 'CCB'),\n",
       " ('mga', 'DTCP'),\n",
       " ('mamamayan', 'NNC'),\n",
       " ('?', 'PMQ')]"
      ]
     },
     "execution_count": 13,
     "metadata": {},
     "output_type": "execute_result"
    }
   ],
   "source": [
    "tag_string(filword_randtext)"
   ]
  },
  {
   "cell_type": "code",
   "execution_count": 26,
   "id": "1a8caa11",
   "metadata": {},
   "outputs": [],
   "source": []
  },
  {
   "cell_type": "code",
   "execution_count": 29,
   "id": "600ee511",
   "metadata": {},
   "outputs": [
    {
     "name": "stdout",
     "output_type": "stream",
     "text": [
      "Bagama't ang panlabas na kaanyuan ng Anak ng tao ay mayroong ilang limitasyon na may kinalaman sa larawan ng Diyos , ang Kanyang diwa at ang kung ano ang mayroon at kung ano Siya ay lubos na kinakatawan ang sariling pagkakakilanlan at katayuan ng Diyos—mayroon lamang ilang pagkakaiba sa anyo ng pagpapahayag .\n",
      "Source:  google_books\n"
     ]
    }
   ],
   "source": []
  },
  {
   "cell_type": "code",
   "execution_count": null,
   "id": "3c4ace29",
   "metadata": {},
   "outputs": [],
   "source": []
  },
  {
   "cell_type": "code",
   "execution_count": null,
   "id": "36ac8ec4",
   "metadata": {},
   "outputs": [],
   "source": []
  }
 ],
 "metadata": {
  "kernelspec": {
   "display_name": "Python 3 (ipykernel)",
   "language": "python",
   "name": "python3"
  },
  "language_info": {
   "codemirror_mode": {
    "name": "ipython",
    "version": 3
   },
   "file_extension": ".py",
   "mimetype": "text/x-python",
   "name": "python",
   "nbconvert_exporter": "python",
   "pygments_lexer": "ipython3",
   "version": "3.9.12"
  }
 },
 "nbformat": 4,
 "nbformat_minor": 5
}
